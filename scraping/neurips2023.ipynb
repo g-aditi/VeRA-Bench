{
 "cells": [
  {
   "cell_type": "code",
   "execution_count": 1,
   "id": "1dd6d218-b583-41db-a045-682c1728c876",
   "metadata": {},
   "outputs": [],
   "source": [
    "import requests\n",
    "from bs4 import BeautifulSoup\n",
    "import os"
   ]
  },
  {
   "cell_type": "code",
   "execution_count": 2,
   "id": "93b903db-065b-433c-98d0-f33a0a3526eb",
   "metadata": {},
   "outputs": [],
   "source": [
    "def scrape_paper(url, save_folder):\n",
    "    response = requests.get(url)\n",
    "    soup = BeautifulSoup(response.text, 'html.parser')\n",
    "    title = soup.find('h2', class_='subtitle').text.strip()\n",
    "    abstract = soup.find('p', class_='abstract').text.strip()\n",
    "    content = soup.find('pre').text.strip()\n",
    "\n",
    "    if not os.path.exists(save_folder):\n",
    "        os.makedirs(save_folder)\n",
    "\n",
    "    filename = f\"{save_folder}/{title}.txt\"\n",
    "    with open(filename, 'w', encoding='utf-8') as file:\n",
    "        file.write(f\"Title: {title}\\n\\n\")\n",
    "        file.write(f\"Abstract: {abstract}\\n\\n\")\n",
    "        file.write(f\"Content:\\n{content}\")\n",
    "\n",
    "    print(f\"Saved: {filename}\")"
   ]
  },
  {
   "cell_type": "code",
   "execution_count": 9,
   "id": "4d7f87b7-99a4-4012-bff0-d5f86c593861",
   "metadata": {},
   "outputs": [
    {
     "name": "stdout",
     "output_type": "stream",
     "text": [
      "[]\n"
     ]
    }
   ],
   "source": [
    "base_url = \"https://proceedings.neurips.cc/paper_files/paper/2023\" ## TO BE CHANGED FOR ICLR\n",
    "response = requests.get(base_url)\n",
    "soup = BeautifulSoup(response.text, 'html.parser')\n",
    "paper_links = soup.find_all('a', class_='conference') ## TO BE CHANGED FOR ICLR\n",
    "print(paper_links)"
   ]
  },
  {
   "cell_type": "code",
   "execution_count": 10,
   "id": "38949976-6e56-4875-b778-8bd0b29ff7e5",
   "metadata": {},
   "outputs": [],
   "source": [
    "## TO BE CHANGED FOR ICLR\n",
    "\n",
    "for link in paper_links:\n",
    "    print(link)\n",
    "    paper_url = base_url + \"/\" + link['href'].replace(\"-Abstract-\", \"-Paper-\")\n",
    "    scrape_paper(paper_url, \"../dataset/NeurIPS_2023_Papers\")"
   ]
  },
  {
   "cell_type": "code",
   "execution_count": null,
   "id": "77617a33-b332-4e45-bec2-c03e84f35a6b",
   "metadata": {},
   "outputs": [],
   "source": []
  }
 ],
 "metadata": {
  "kernelspec": {
   "display_name": "chroma",
   "language": "python",
   "name": "chroma"
  },
  "language_info": {
   "codemirror_mode": {
    "name": "ipython",
    "version": 3
   },
   "file_extension": ".py",
   "mimetype": "text/x-python",
   "name": "python",
   "nbconvert_exporter": "python",
   "pygments_lexer": "ipython3",
   "version": "3.11.5"
  }
 },
 "nbformat": 4,
 "nbformat_minor": 5
}
