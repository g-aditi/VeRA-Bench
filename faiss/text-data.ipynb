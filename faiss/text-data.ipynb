{
 "cells": [
  {
   "cell_type": "code",
   "execution_count": 1,
   "id": "b33babf0-f7bc-4fee-a480-23375d916032",
   "metadata": {},
   "outputs": [],
   "source": [
    "import pandas as pd\n",
    "import numpy as np\n",
    "import os\n",
    "from gensim.models.doc2vec import Doc2Vec, TaggedDocument\n",
    "from nltk.tokenize import word_tokenize\n",
    "import time"
   ]
  },
  {
   "cell_type": "code",
   "execution_count": 2,
   "id": "6e6d6e18-bd1d-4cf6-9c24-5c0fe4841e09",
   "metadata": {},
   "outputs": [
    {
     "name": "stderr",
     "output_type": "stream",
     "text": [
      "[nltk_data] Downloading package punkt to /home/aganap12/nltk_data...\n",
      "[nltk_data]   Package punkt is already up-to-date!\n"
     ]
    },
    {
     "data": {
      "text/plain": [
       "True"
      ]
     },
     "execution_count": 2,
     "metadata": {},
     "output_type": "execute_result"
    }
   ],
   "source": [
    "import nltk\n",
    "nltk.download('punkt')"
   ]
  },
  {
   "cell_type": "code",
   "execution_count": 3,
   "id": "43dbeaf0-2268-433d-8d59-3a1b91a4dc39",
   "metadata": {},
   "outputs": [],
   "source": [
    "data_directory = '../dataset/aws-case-studies-blogs-dataset'\n",
    "file_paths = [os.path.join(data_directory, file) for file in os.listdir(data_directory) if file.endswith('.txt')]"
   ]
  },
  {
   "cell_type": "code",
   "execution_count": 4,
   "id": "61b9cf37-f430-49c3-8614-a8f846610e72",
   "metadata": {},
   "outputs": [],
   "source": [
    "tagged_data = []\n",
    "\n",
    "for i, file_path in enumerate(file_paths):\n",
    "    with open(file_path, 'r', encoding='utf-8') as file:\n",
    "        text = file.read()\n",
    "        words = word_tokenize(text)\n",
    "        words = [word.lower() for word in words]\n",
    "        tagged_data.append(TaggedDocument(words, tags=['doc_' + str(i)]))"
   ]
  },
  {
   "cell_type": "code",
   "execution_count": 5,
   "id": "03111781-2f02-46a8-a985-36c0a8bedf9b",
   "metadata": {},
   "outputs": [],
   "source": [
    "model = Doc2Vec()\n",
    "model.build_vocab(tagged_data)\n",
    "model.train(tagged_data, total_examples=model.corpus_count, epochs=model.epochs)"
   ]
  },
  {
   "cell_type": "code",
   "execution_count": 6,
   "id": "142b3bb4-4e74-4144-95e8-0bb21cae2f27",
   "metadata": {},
   "outputs": [],
   "source": [
    "document_vectors = [model.dv['doc_' + str(i)] for i in range(len(tagged_data))]"
   ]
  },
  {
   "cell_type": "code",
   "execution_count": 7,
   "id": "301340c8-17b7-40a0-93c4-ee3dfece3434",
   "metadata": {},
   "outputs": [
    {
     "data": {
      "text/plain": [
       "100"
      ]
     },
     "execution_count": 7,
     "metadata": {},
     "output_type": "execute_result"
    }
   ],
   "source": [
    "vector_dim = len(document_vectors[0])\n",
    "vector_dim"
   ]
  },
  {
   "cell_type": "code",
   "execution_count": 8,
   "id": "e6d10f25-670e-478c-b25b-e8fc365a9715",
   "metadata": {},
   "outputs": [],
   "source": [
    "import faiss"
   ]
  },
  {
   "cell_type": "code",
   "execution_count": 9,
   "id": "cf24643b-0753-4dd8-b3d0-14ebcc028025",
   "metadata": {},
   "outputs": [],
   "source": [
    "index = faiss.IndexFlatL2(vector_dim)"
   ]
  },
  {
   "cell_type": "code",
   "execution_count": 10,
   "id": "55cc0c72-3a49-4b93-8231-399b338215a1",
   "metadata": {},
   "outputs": [],
   "source": [
    "vectors_np = np.array(document_vectors).astype('float32')"
   ]
  },
  {
   "cell_type": "code",
   "execution_count": 11,
   "id": "6d4356ec-6454-4659-b3cf-acd64df351bb",
   "metadata": {},
   "outputs": [],
   "source": [
    "query = \"Impossible\"\n",
    "query_vector = model.infer_vector(query.lower().split(\" \"))\n",
    "query_vector_np = np.array([query_vector]).astype('float32')\n",
    "k = 5"
   ]
  },
  {
   "cell_type": "code",
   "execution_count": 12,
   "id": "3a7db7b7-0625-45cb-950a-ab2797a223d4",
   "metadata": {},
   "outputs": [
    {
     "name": "stdout",
     "output_type": "stream",
     "text": [
      "query:  Impossible\n",
      "query vector np:  [[-0.05687655 -0.00830367 -0.03966373  0.03002366 -0.01787311 -0.02410796\n",
      "   0.0034225   0.02776333 -0.03873994  0.03093769 -0.02414584 -0.01320349\n",
      "  -0.00567666 -0.02316937  0.01254354 -0.04767926  0.00289311  0.01243417\n",
      "  -0.02308659 -0.00029333  0.00828836  0.02198659 -0.02134611  0.02374741\n",
      "  -0.01084088 -0.01702005 -0.0468153  -0.04631354  0.01536928 -0.0497291\n",
      "   0.0437691   0.01909008 -0.01138894 -0.03359936 -0.03054984  0.02224889\n",
      "  -0.0103604  -0.02768533 -0.02809381 -0.03413468  0.01769208 -0.01010516\n",
      "   0.00916497  0.00037042 -0.01481792 -0.06018982 -0.01002642 -0.01692454\n",
      "  -0.02098884 -0.05032591 -0.01508853  0.02784039 -0.01729966 -0.03031973\n",
      "  -0.03567794  0.04113714  0.00750158  0.03514955 -0.05919312  0.02942149\n",
      "   0.05943093  0.05109467  0.02294203 -0.01164501  0.02192098  0.00486652\n",
      "   0.0238451  -0.00182904 -0.05043935 -0.01726627 -0.09077703  0.00924592\n",
      "  -0.04071798 -0.00925202  0.01333387  0.03753878  0.03307252 -0.03371513\n",
      "  -0.03707552  0.01282795  0.00160237  0.01835576 -0.04690896  0.01269386\n",
      "   0.01450226  0.04499315  0.02432578 -0.00693939  0.01416149  0.01491761\n",
      "  -0.07147532  0.03491539 -0.02969883 -0.02747508  0.00307002  0.03824477\n",
      "   0.03501635  0.01049083  0.06111125  0.00701413]]\n"
     ]
    }
   ],
   "source": [
    "print(f\"query: \", query)\n",
    "print(f\"query vector np: \", query_vector_np)"
   ]
  },
  {
   "cell_type": "code",
   "execution_count": 13,
   "id": "2107a015-7fc0-4a17-a553-5f2fcc0ea202",
   "metadata": {},
   "outputs": [
    {
     "name": "stdout",
     "output_type": "stream",
     "text": [
      "Retrieval time: 117281.91375732422 microseconds\n"
     ]
    }
   ],
   "source": [
    "index.reset()\n",
    "index.add(vectors_np)\n",
    "start_time = time.time()\n",
    "distances, indices = index.search(query_vector_np, k)\n",
    "end_time = time.time()\n",
    "retrieval_time = (end_time - start_time) * 1e6\n",
    "print(\"Retrieval time:\", retrieval_time, \"microseconds\")"
   ]
  },
  {
   "cell_type": "code",
   "execution_count": 14,
   "id": "f6e3ccde-a1e3-4531-9236-e7ef4cc1ad2b",
   "metadata": {},
   "outputs": [
    {
     "data": {
      "text/plain": [
       "array([[297, 299, 198, 333, 339]])"
      ]
     },
     "execution_count": 14,
     "metadata": {},
     "output_type": "execute_result"
    }
   ],
   "source": [
    "indices"
   ]
  },
  {
   "cell_type": "code",
   "execution_count": 15,
   "id": "71a1041c-e81e-481b-9f1d-480590ada2ae",
   "metadata": {},
   "outputs": [
    {
     "data": {
      "text/plain": [
       "['../dataset/aws-case-studies-blogs-dataset/Better Mortgage using Amazon Elastic Kubernetes _ Better Mortgage Video _ AWS.txt',\n",
       " '../dataset/aws-case-studies-blogs-dataset/TEG on using Machine Learning and Amazon Personalize to boost user engagement and ticket sales _ Ticketek Video _ AWS.txt',\n",
       " '../dataset/aws-case-studies-blogs-dataset/Razer Deepened Gamer Engagement using Amazon Personalize _ Video Testimonial _ AWS.txt',\n",
       " '../dataset/aws-case-studies-blogs-dataset/AppsFlyer Amazon EKS Case Study _ Advertising _ AWS.txt',\n",
       " '../dataset/aws-case-studies-blogs-dataset/Circle of Life _ Amazon Web Services.txt']"
      ]
     },
     "execution_count": 15,
     "metadata": {},
     "output_type": "execute_result"
    }
   ],
   "source": [
    "nearest_files = [file_paths[i] for i in indices.flatten()]\n",
    "nearest_files"
   ]
  },
  {
   "cell_type": "code",
   "execution_count": null,
   "id": "42197f05-b669-465e-a81a-67a8a6d30bd6",
   "metadata": {},
   "outputs": [],
   "source": []
  }
 ],
 "metadata": {
  "kernelspec": {
   "display_name": "faiss-env",
   "language": "python",
   "name": "faiss-env"
  },
  "language_info": {
   "codemirror_mode": {
    "name": "ipython",
    "version": 3
   },
   "file_extension": ".py",
   "mimetype": "text/x-python",
   "name": "python",
   "nbconvert_exporter": "python",
   "pygments_lexer": "ipython3",
   "version": "3.11.8"
  }
 },
 "nbformat": 4,
 "nbformat_minor": 5
}
