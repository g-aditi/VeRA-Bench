{
 "cells": [
  {
   "cell_type": "code",
   "execution_count": 1,
   "id": "1dd6d218-b583-41db-a045-682c1728c876",
   "metadata": {},
   "outputs": [],
   "source": [
    "import requests\n",
    "from bs4 import BeautifulSoup\n",
    "import os\n",
    "import fitz"
   ]
  },
  {
   "cell_type": "code",
   "execution_count": 2,
   "id": "4d7f87b7-99a4-4012-bff0-d5f86c593861",
   "metadata": {},
   "outputs": [],
   "source": [
    "def parse_base_html():\n",
    "    base_url = \"https://proceedings.neurips.cc/paper_files/paper/2023\"\n",
    "    response = requests.get(base_url)\n",
    "    soup = BeautifulSoup(response.text, 'html.parser')\n",
    "    paper_li = soup.find_all('li', class_='conference')\n",
    "    paper_links = []\n",
    "    for i in range(len(paper_li)):\n",
    "        paper_a = paper_li[i].find('a')\n",
    "        paper_links.append(paper_a.get('href'))\n",
    "    modify_links(paper_links)"
   ]
  },
  {
   "cell_type": "code",
   "execution_count": 3,
   "id": "38949976-6e56-4875-b778-8bd0b29ff7e5",
   "metadata": {},
   "outputs": [],
   "source": [
    "def modify_links(paper_links):\n",
    "    paper_urls = []\n",
    "    for link in paper_links:\n",
    "        paper_url = \"https://proceedings.neurips.cc\" + \\\n",
    "                    link.replace(\"-Abstract-\", \"-Paper-\")\\\n",
    "                        .replace(\"/hash/\", \"/file/\")\\\n",
    "                        .replace(\".html\", \".pdf\")\n",
    "        paper_urls.append(paper_url)\n",
    "    return paper_urls"
   ]
  },
  {
   "cell_type": "code",
   "execution_count": 4,
   "id": "8a410465-5adf-4603-bee3-497c9e50170c",
   "metadata": {},
   "outputs": [
    {
     "ename": "TypeError",
     "evalue": "'NoneType' object is not subscriptable",
     "output_type": "error",
     "traceback": [
      "\u001b[0;31m---------------------------------------------------------------------------\u001b[0m",
      "\u001b[0;31mTypeError\u001b[0m                                 Traceback (most recent call last)",
      "Cell \u001b[0;32mIn[4], line 1\u001b[0m\n\u001b[0;32m----> 1\u001b[0m \u001b[38;5;28mprint\u001b[39m(\u001b[43mparse_base_html\u001b[49m\u001b[43m(\u001b[49m\u001b[43m)\u001b[49m\u001b[43m[\u001b[49m\u001b[38;5;241;43m5\u001b[39;49m\u001b[43m:\u001b[49m\u001b[38;5;241;43m10\u001b[39;49m\u001b[43m]\u001b[49m)\n",
      "\u001b[0;31mTypeError\u001b[0m: 'NoneType' object is not subscriptable"
     ]
    }
   ],
   "source": []
  },
  {
   "cell_type": "code",
   "execution_count": null,
   "id": "ed731ab8-9b44-44f9-bda8-07ea62bdc4fd",
   "metadata": {},
   "outputs": [],
   "source": []
  }
 ],
 "metadata": {
  "kernelspec": {
   "display_name": "chroma",
   "language": "python",
   "name": "chroma"
  },
  "language_info": {
   "codemirror_mode": {
    "name": "ipython",
    "version": 3
   },
   "file_extension": ".py",
   "mimetype": "text/x-python",
   "name": "python",
   "nbconvert_exporter": "python",
   "pygments_lexer": "ipython3",
   "version": "3.11.5"
  }
 },
 "nbformat": 4,
 "nbformat_minor": 5
}
